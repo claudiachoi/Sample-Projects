{
 "cells": [
  {
   "cell_type": "code",
   "execution_count": null,
   "metadata": {},
   "outputs": [],
   "source": [
    "import pandas as pd\n",
    "\n",
    "#Load the data\n",
    "data = pd.read_csv(\"C:/OSGeo4W64/bin/toronto_grid.csv\")\n",
    "\n",
    "#Change CSR from EPSG:3857 to EPSG:4326 to use in satellite imagery collection\n",
    "from osgeo import osr\n",
    "old_crs = osr.SpatialReference()\n",
    "old_crs.ImportFromEPSG(3857)\n",
    "new_crs = osr.SpatialReference()\n",
    "new_crs.ImportFromEPSG(4326)\n",
    "transform = osr.CoordinateTransformation(old_crs,new_crs)\n",
    "\n",
    "#Convert south and west coordinates\n",
    "west = []\n",
    "south = []\n",
    "for i in range(0,len(data)):\n",
    "    q= data['bottom'][i]\n",
    "    p = data['left'][i]\n",
    "    result = transform.TransformPoint(p, q)\n",
    "    west.append(result[0])\n",
    "    south.append(result[1])\n",
    "\n",
    "data['West']= west\n",
    "data['South']= south\n",
    "\n",
    "#Convert north and east coordinates\n",
    "east = []\n",
    "north = []\n",
    "for i in range(0,len(data)):\n",
    "    q= data['top'][i]\n",
    "    p = data['right'][i]\n",
    "    result = transform.TransformPoint(p, q)\n",
    "    east.append(result[0])\n",
    "    north.append(result[1])\n",
    "\n",
    "data['East']= east\n",
    "data['North']= north"
   ]
  },
  {
   "cell_type": "code",
   "execution_count": null,
   "metadata": {},
   "outputs": [],
   "source": [
    "#to generate satellite imagery dataset of toronto\n",
    "for (i in c(1:nrow(data))){ \n",
    "a <- data[i,'id']\n",
    "b <- \".png\" \n",
    "GetBingMap(mapArea = c(data[i, 'South'], data[i, 'West'], data[i,'North'], data[i,'East']), size = c(256,256), destfile = paste0(a,b), maptype= \"Aerial\", RETURNIMAGE = FALSE, NEWMAP = TRUE, apiKey = c(\"Ai2GTE7keF_1T5KpTgkxqV3wmuAex8j8qzmsa1kcHC3ff5nYWNsudmxaOWBykR0W\"))\n",
    "}"
   ]
  }
 ],
 "metadata": {
  "kernelspec": {
   "display_name": "Python 3",
   "language": "python",
   "name": "python3"
  },
  "language_info": {
   "codemirror_mode": {
    "name": "ipython",
    "version": 3
   },
   "file_extension": ".py",
   "mimetype": "text/x-python",
   "name": "python",
   "nbconvert_exporter": "python",
   "pygments_lexer": "ipython3",
   "version": "3.6.5"
  }
 },
 "nbformat": 4,
 "nbformat_minor": 2
}
